{
 "cells": [
  {
   "cell_type": "code",
   "execution_count": 1,
   "metadata": {
    "collapsed": true
   },
   "outputs": [],
   "source": [
    "import numpy as np"
   ]
  },
  {
   "cell_type": "code",
   "execution_count": 12,
   "metadata": {
    "collapsed": false
   },
   "outputs": [],
   "source": [
    "weights = np.array([.5,0,-.5])"
   ]
  },
  {
   "cell_type": "code",
   "execution_count": 13,
   "metadata": {
    "collapsed": true
   },
   "outputs": [],
   "source": [
    "alpha = 0.1"
   ]
  },
  {
   "cell_type": "code",
   "execution_count": 14,
   "metadata": {
    "collapsed": true
   },
   "outputs": [],
   "source": [
    "# unlabeled data\n",
    "x = np.array([\n",
    "        [1,0,1],\n",
    "        [0,1,1],\n",
    "        [0,0,1],\n",
    "        [1,1,1],\n",
    "        [0,1,1],\n",
    "        [1,0,1]\n",
    "    ])"
   ]
  },
  {
   "cell_type": "code",
   "execution_count": 15,
   "metadata": {
    "collapsed": true
   },
   "outputs": [],
   "source": [
    "# correct values\n",
    "y = np.array([0,1,0,1,1,0])"
   ]
  },
  {
   "cell_type": "code",
   "execution_count": null,
   "metadata": {
    "collapsed": true
   },
   "outputs": [],
   "source": []
  },
  {
   "cell_type": "code",
   "execution_count": 16,
   "metadata": {
    "collapsed": false
   },
   "outputs": [
    {
     "name": "stdout",
     "output_type": "stream",
     "text": [
      "0.0\n",
      "-0.5\n",
      "-0.35\n",
      "0.335\n",
      "-0.032\n",
      "0.4212\n",
      "error 4.05715844\n",
      "[ 0.52438  0.3197  -0.18742]\n",
      "0.33696\n",
      "0.098584\n",
      "-0.1309744\n",
      "0.78264864\n",
      "0.335434912\n",
      "0.4827338208\n",
      "error 1.66516745174\n",
      "[ 0.46414575  0.49803324 -0.0779587 ]\n",
      "0.38618705664\n",
      "0.381455841856\n",
      "-0.0547229871296\n",
      "0.936164020454\n",
      "0.523404168107\n",
      "0.436703138938\n",
      "error 0.956660174431\n",
      "[ 0.38824033  0.61393084 -0.03887782]\n",
      "0.34936251115\n",
      "0.540116769477\n",
      "-0.0278257492292\n",
      "0.988180071706\n",
      "0.637239976163\n",
      "0.366900894938\n",
      "error 0.600671834539\n",
      "[ 0.31779598  0.69737716 -0.02427527]\n",
      "0.29352071595\n",
      "0.643749819842\n",
      "-0.0180023221662\n",
      "1.00524400103\n",
      "0.715751287883\n",
      "0.299617893998\n",
      "error 0.383988397449\n",
      "[ 0.25795772  0.76090265 -0.01826341]\n",
      "0.239694315198\n",
      "0.718669809387\n",
      "-0.0140998206995\n",
      "1.0103341215\n",
      "0.77427900528\n",
      "0.241803728462\n",
      "error 0.246324650455\n",
      "[ 0.20877451  0.81057436 -0.01533152]\n",
      "0.19344298277\n",
      "0.775898533101\n",
      "-0.0122656757407\n",
      "1.0113756027\n",
      "0.819670273514\n",
      "0.194148952588\n",
      "error 0.158134132233\n",
      "[ 0.16887775  0.84987991 -0.01355859]\n",
      "0.15531916207\n",
      "0.820789407346\n",
      "-0.0111694479886\n",
      "1.01109430759\n",
      "0.855529609158\n",
      "0.155521511288\n",
      "error 0.101546953158\n",
      "[ 0.13668426  0.88113858 -0.01226705]\n",
      "0.12441720903\n",
      "0.856429815295\n",
      "-0.0103517484254\n",
      "1.0104215612\n",
      "0.884094714839\n",
      "0.124432176814\n",
      "error 0.0652252092273\n",
      "[ 0.11075716  0.90604397 -0.01121142]\n",
      "0.0995457414509\n",
      "0.884877980045\n",
      "-0.00965379101751\n",
      "1.00967034931\n",
      "0.906933693275\n",
      "0.0994867350683\n",
      "error 0.0419080933584\n",
      "[ 0.08988688  0.92589577 -0.01029749]\n"
     ]
    }
   ],
   "source": [
    "for iteration in range(10):\n",
    "    J_cost_function = 0\n",
    "    for  row_index in range(len(y)):\n",
    "        input = x[row_index]\n",
    "        actual = y[row_index]\n",
    "\n",
    "        prediction = input.dot(weights)\n",
    "        error = (actual - prediction) ** 2\n",
    "        J_cost_function += error\n",
    "\n",
    "        delta = prediction - actual\n",
    "        weights = weights - (alpha * (input * delta))\n",
    "        print(prediction)\n",
    "    print('error ' + str(J_cost_function))\n",
    "    print(weights)\n",
    "        "
   ]
  },
  {
   "cell_type": "code",
   "execution_count": null,
   "metadata": {
    "collapsed": false
   },
   "outputs": [],
   "source": []
  },
  {
   "cell_type": "code",
   "execution_count": null,
   "metadata": {
    "collapsed": true
   },
   "outputs": [],
   "source": []
  }
 ],
 "metadata": {
  "kernelspec": {
   "display_name": "Python 3",
   "language": "python",
   "name": "python3"
  },
  "language_info": {
   "codemirror_mode": {
    "name": "ipython",
    "version": 3
   },
   "file_extension": ".py",
   "mimetype": "text/x-python",
   "name": "python",
   "nbconvert_exporter": "python",
   "pygments_lexer": "ipython3",
   "version": "3.5.1"
  }
 },
 "nbformat": 4,
 "nbformat_minor": 0
}
