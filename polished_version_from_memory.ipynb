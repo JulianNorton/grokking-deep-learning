{
 "cells": [
  {
   "cell_type": "code",
   "execution_count": 1,
   "metadata": {
    "collapsed": true
   },
   "outputs": [],
   "source": [
    "import numpy as np"
   ]
  },
  {
   "cell_type": "code",
   "execution_count": 2,
   "metadata": {
    "collapsed": false
   },
   "outputs": [],
   "source": [
    "weights = np.array([.5,1,-.5])"
   ]
  },
  {
   "cell_type": "code",
   "execution_count": 3,
   "metadata": {
    "collapsed": true
   },
   "outputs": [],
   "source": [
    "alpha = 0.1"
   ]
  },
  {
   "cell_type": "code",
   "execution_count": 4,
   "metadata": {
    "collapsed": true
   },
   "outputs": [],
   "source": [
    "# unlabeled data\n",
    "x = np.array([\n",
    "        [1,0,1],\n",
    "        [0,1,1],\n",
    "        [0,0,1],\n",
    "        [1,1,1],\n",
    "        [0,1,1],\n",
    "        [1,0,1]\n",
    "    ])"
   ]
  },
  {
   "cell_type": "code",
   "execution_count": 5,
   "metadata": {
    "collapsed": true
   },
   "outputs": [],
   "source": [
    "# correct values\n",
    "y = np.array([0,1,0,1,1,0])"
   ]
  },
  {
   "cell_type": "code",
   "execution_count": null,
   "metadata": {
    "collapsed": true
   },
   "outputs": [],
   "source": []
  },
  {
   "cell_type": "code",
   "execution_count": 8,
   "metadata": {
    "collapsed": false
   },
   "outputs": [
    {
     "name": "stdout",
     "output_type": "stream",
     "text": [
      "-1.97372982156e-16\n",
      "1.0\n",
      "-4.4408920985e-16\n",
      "1.0\n",
      "1.0\n",
      "-2.46716227694e-16\n",
      "error 5.92863056856e-31\n",
      "-1.97372982156e-16\n",
      "1.0\n",
      "-4.4408920985e-16\n",
      "1.0\n",
      "1.0\n",
      "-2.46716227694e-16\n",
      "error 5.92863056856e-31\n",
      "-1.97372982156e-16\n",
      "1.0\n",
      "-4.4408920985e-16\n",
      "1.0\n",
      "1.0\n",
      "-2.46716227694e-16\n",
      "error 5.92863056856e-31\n",
      "-1.97372982156e-16\n",
      "1.0\n",
      "-4.4408920985e-16\n",
      "1.0\n",
      "1.0\n",
      "-2.46716227694e-16\n",
      "error 5.92863056856e-31\n",
      "-1.97372982156e-16\n",
      "1.0\n",
      "-4.4408920985e-16\n",
      "1.0\n",
      "1.0\n",
      "-2.46716227694e-16\n",
      "error 5.92863056856e-31\n",
      "-1.97372982156e-16\n",
      "1.0\n",
      "-4.4408920985e-16\n",
      "1.0\n",
      "1.0\n",
      "-2.46716227694e-16\n",
      "error 5.92863056856e-31\n",
      "-1.97372982156e-16\n",
      "1.0\n",
      "-4.4408920985e-16\n",
      "1.0\n",
      "1.0\n",
      "-2.46716227694e-16\n",
      "error 5.92863056856e-31\n",
      "-1.97372982156e-16\n",
      "1.0\n",
      "-4.4408920985e-16\n",
      "1.0\n",
      "1.0\n",
      "-2.46716227694e-16\n",
      "error 5.92863056856e-31\n",
      "-1.97372982156e-16\n",
      "1.0\n",
      "-4.4408920985e-16\n",
      "1.0\n",
      "1.0\n",
      "-2.46716227694e-16\n",
      "error 5.92863056856e-31\n",
      "-1.97372982156e-16\n",
      "1.0\n",
      "-4.4408920985e-16\n",
      "1.0\n",
      "1.0\n",
      "-2.46716227694e-16\n",
      "error 5.92863056856e-31\n"
     ]
    }
   ],
   "source": [
    "for iteration in range(10):\n",
    "    J_cost_function = 0\n",
    "    for  row_index in range(len(y)):\n",
    "        input = x[row_index]\n",
    "        actual = y[row_index]\n",
    "\n",
    "        prediction = input.dot(weights)\n",
    "        error = (actual - prediction) ** 2\n",
    "        J_cost_function += error\n",
    "\n",
    "        delta = prediction - actual\n",
    "        weights = weights - (alpha * (input * delta))\n",
    "        print(prediction)\n",
    "    print('error ' + str(J_cost_function))\n",
    "    print\n",
    "        "
   ]
  },
  {
   "cell_type": "code",
   "execution_count": null,
   "metadata": {
    "collapsed": false
   },
   "outputs": [],
   "source": []
  },
  {
   "cell_type": "code",
   "execution_count": null,
   "metadata": {
    "collapsed": true
   },
   "outputs": [],
   "source": []
  }
 ],
 "metadata": {
  "kernelspec": {
   "display_name": "Python 3",
   "language": "python",
   "name": "python3"
  },
  "language_info": {
   "codemirror_mode": {
    "name": "ipython",
    "version": 3
   },
   "file_extension": ".py",
   "mimetype": "text/x-python",
   "name": "python",
   "nbconvert_exporter": "python",
   "pygments_lexer": "ipython3",
   "version": "3.5.1"
  }
 },
 "nbformat": 4,
 "nbformat_minor": 0
}
