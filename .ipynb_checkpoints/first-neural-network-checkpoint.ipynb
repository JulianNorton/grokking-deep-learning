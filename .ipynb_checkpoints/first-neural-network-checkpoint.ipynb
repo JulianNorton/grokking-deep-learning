{
 "cells": [
  {
   "cell_type": "code",
   "execution_count": 94,
   "metadata": {
    "collapsed": true
   },
   "outputs": [],
   "source": [
    "knob_weight = 0.5"
   ]
  },
  {
   "cell_type": "code",
   "execution_count": 95,
   "metadata": {
    "collapsed": true
   },
   "outputs": [],
   "source": [
    "input = 0.5"
   ]
  },
  {
   "cell_type": "code",
   "execution_count": 96,
   "metadata": {
    "collapsed": true
   },
   "outputs": [],
   "source": [
    "goal_prediction = 0.8"
   ]
  },
  {
   "cell_type": "code",
   "execution_count": 97,
   "metadata": {
    "collapsed": true
   },
   "outputs": [],
   "source": [
    "step_amount = 0.001"
   ]
  },
  {
   "cell_type": "code",
   "execution_count": 89,
   "metadata": {
    "collapsed": false
   },
   "outputs": [
    {
     "name": "stdout",
     "output_type": "stream",
     "text": [
      "Error:0.0 Prediction:0.8\n",
      "Error:0.0 Prediction:0.8\n",
      "Error:0.0 Prediction:0.8\n",
      "Error:0.0 Prediction:0.8\n",
      "Error:0.0 Prediction:0.8\n",
      "Error:0.0 Prediction:0.8\n",
      "Error:0.0 Prediction:0.8\n",
      "Error:0.0 Prediction:0.8\n",
      "Error:0.0 Prediction:0.8\n",
      "Error:0.0 Prediction:0.8\n",
      "Error:0.0 Prediction:0.8\n",
      "Error:0.0 Prediction:0.8\n",
      "Error:0.0 Prediction:0.8\n",
      "Error:0.0 Prediction:0.8\n",
      "Error:0.0 Prediction:0.8\n",
      "Error:0.0 Prediction:0.8\n",
      "Error:0.0 Prediction:0.8\n",
      "Error:0.0 Prediction:0.8\n",
      "Error:0.0 Prediction:0.8\n",
      "Error:0.0 Prediction:0.8\n",
      "Error:0.0 Prediction:0.8\n",
      "Error:0.0 Prediction:0.8\n",
      "Error:0.0 Prediction:0.8\n",
      "Error:0.0 Prediction:0.8\n",
      "Error:0.0 Prediction:0.8\n",
      "Error:0.0 Prediction:0.8\n",
      "Error:0.0 Prediction:0.8\n",
      "Error:0.0 Prediction:0.8\n",
      "Error:0.0 Prediction:0.8\n",
      "Error:0.0 Prediction:0.8\n",
      "Error:0.0 Prediction:0.8\n",
      "Error:0.0 Prediction:0.8\n",
      "Error:0.0 Prediction:0.8\n",
      "Error:0.0 Prediction:0.8\n",
      "Error:0.0 Prediction:0.8\n",
      "Error:0.0 Prediction:0.8\n",
      "Error:0.0 Prediction:0.8\n",
      "Error:0.0 Prediction:0.8\n",
      "Error:0.0 Prediction:0.8\n",
      "Error:0.0 Prediction:0.8\n",
      "Error:0.0 Prediction:0.8\n",
      "Error:0.0 Prediction:0.8\n",
      "Error:0.0 Prediction:0.8\n",
      "Error:0.0 Prediction:0.8\n",
      "Error:0.0 Prediction:0.8\n",
      "Error:0.0 Prediction:0.8\n",
      "Error:0.0 Prediction:0.8\n",
      "Error:0.0 Prediction:0.8\n",
      "Error:0.0 Prediction:0.8\n",
      "Error:0.0 Prediction:0.8\n",
      "Error:0.0 Prediction:0.8\n",
      "Error:0.0 Prediction:0.8\n",
      "Error:0.0 Prediction:0.8\n",
      "Error:0.0 Prediction:0.8\n",
      "Error:0.0 Prediction:0.8\n",
      "Error:0.0 Prediction:0.8\n",
      "Error:0.0 Prediction:0.8\n",
      "Error:0.0 Prediction:0.8\n",
      "Error:0.0 Prediction:0.8\n",
      "Error:0.0 Prediction:0.8\n",
      "Error:0.0 Prediction:0.8\n",
      "Error:0.0 Prediction:0.8\n",
      "Error:0.0 Prediction:0.8\n",
      "Error:0.0 Prediction:0.8\n",
      "Error:0.0 Prediction:0.8\n",
      "Error:0.0 Prediction:0.8\n",
      "Error:0.0 Prediction:0.8\n",
      "Error:0.0 Prediction:0.8\n",
      "Error:0.0 Prediction:0.8\n",
      "Error:0.0 Prediction:0.8\n",
      "Error:0.0 Prediction:0.8\n",
      "Error:0.0 Prediction:0.8\n",
      "Error:0.0 Prediction:0.8\n",
      "Error:0.0 Prediction:0.8\n",
      "Error:0.0 Prediction:0.8\n",
      "Error:0.0 Prediction:0.8\n",
      "Error:0.0 Prediction:0.8\n",
      "Error:0.0 Prediction:0.8\n",
      "Error:0.0 Prediction:0.8\n",
      "Error:0.0 Prediction:0.8\n",
      "Error:0.0 Prediction:0.8\n",
      "Error:0.0 Prediction:0.8\n",
      "Error:0.0 Prediction:0.8\n",
      "Error:0.0 Prediction:0.8\n",
      "Error:0.0 Prediction:0.8\n",
      "Error:0.0 Prediction:0.8\n",
      "Error:0.0 Prediction:0.8\n",
      "Error:0.0 Prediction:0.8\n",
      "Error:0.0 Prediction:0.8\n",
      "Error:0.0 Prediction:0.8\n",
      "Error:0.0 Prediction:0.8\n",
      "Error:0.0 Prediction:0.8\n",
      "Error:0.0 Prediction:0.8\n",
      "Error:0.0 Prediction:0.8\n",
      "Error:0.0 Prediction:0.8\n",
      "Error:0.0 Prediction:0.8\n",
      "Error:0.0 Prediction:0.8\n",
      "Error:0.0 Prediction:0.8\n",
      "Error:0.0 Prediction:0.8\n",
      "Error:0.0 Prediction:0.8\n"
     ]
    }
   ],
   "source": [
    "for iteration in range(100):\n",
    "    prediction = input * knob_weight\n",
    "    error = (goal_prediction - prediction) ** 2\n",
    "    direction_and_amount = (goal_prediction - prediction) * input\n",
    "    knob_weight = knob_weight + direction_and_amount\n",
    "    print(\"Error:\" + str(round(error, 5)) + \" Prediction:\" + str(round(prediction, 5)))"
   ]
  },
  {
   "cell_type": "code",
   "execution_count": 98,
   "metadata": {
    "collapsed": false
   },
   "outputs": [
    {
     "name": "stdout",
     "output_type": "stream",
     "text": [
      "0.7999999999999998\n"
     ]
    }
   ],
   "source": [
    "    print(prediction)"
   ]
  },
  {
   "cell_type": "code",
   "execution_count": 33,
   "metadata": {
    "collapsed": false
   },
   "outputs": [
    {
     "data": {
      "text/plain": [
       "0.30250000000000005"
      ]
     },
     "execution_count": 33,
     "metadata": {},
     "output_type": "execute_result"
    }
   ],
   "source": [
    "    error"
   ]
  },
  {
   "cell_type": "code",
   "execution_count": null,
   "metadata": {
    "collapsed": true
   },
   "outputs": [],
   "source": []
  },
  {
   "cell_type": "code",
   "execution_count": null,
   "metadata": {
    "collapsed": true
   },
   "outputs": [],
   "source": []
  },
  {
   "cell_type": "code",
   "execution_count": null,
   "metadata": {
    "collapsed": true
   },
   "outputs": [],
   "source": []
  }
 ],
 "metadata": {
  "kernelspec": {
   "display_name": "Python 3",
   "language": "python",
   "name": "python3"
  },
  "language_info": {
   "codemirror_mode": {
    "name": "ipython",
    "version": 3
   },
   "file_extension": ".py",
   "mimetype": "text/x-python",
   "name": "python",
   "nbconvert_exporter": "python",
   "pygments_lexer": "ipython3",
   "version": "3.5.1"
  }
 },
 "nbformat": 4,
 "nbformat_minor": 0
}
