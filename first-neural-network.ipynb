{
 "cells": [
  {
   "cell_type": "code",
   "execution_count": 1,
   "metadata": {
    "collapsed": true
   },
   "outputs": [],
   "source": [
    "knob_weight = 0.5"
   ]
  },
  {
   "cell_type": "code",
   "execution_count": 2,
   "metadata": {
    "collapsed": true
   },
   "outputs": [],
   "source": [
    "input = 2"
   ]
  },
  {
   "cell_type": "code",
   "execution_count": 3,
   "metadata": {
    "collapsed": true
   },
   "outputs": [],
   "source": [
    "goal_prediction = 0.8"
   ]
  },
  {
   "cell_type": "code",
   "execution_count": 4,
   "metadata": {
    "collapsed": true
   },
   "outputs": [],
   "source": [
    "step_amount = 0.1"
   ]
  },
  {
   "cell_type": "code",
   "execution_count": 5,
   "metadata": {
    "collapsed": true
   },
   "outputs": [],
   "source": [
    "alpha = 0.001"
   ]
  },
  {
   "cell_type": "code",
   "execution_count": 6,
   "metadata": {
    "collapsed": false
   },
   "outputs": [
    {
     "name": "stdout",
     "output_type": "stream",
     "text": [
      "Error:0.04 Prediction:1.0\n",
      "Error:0.03968 Prediction:0.9992\n",
      "Error:0.03936 Prediction:0.9984\n",
      "Error:0.03905 Prediction:0.99761\n",
      "Error:0.03874 Prediction:0.99682\n",
      "Error:0.03843 Prediction:0.99603\n",
      "Error:0.03812 Prediction:0.99525\n",
      "Error:0.03782 Prediction:0.99447\n",
      "Error:0.03752 Prediction:0.99369\n",
      "Error:0.03722 Prediction:0.99291\n",
      "Error:0.03692 Prediction:0.99214\n",
      "Error:0.03662 Prediction:0.99137\n",
      "Error:0.03633 Prediction:0.99061\n",
      "Error:0.03604 Prediction:0.98985\n",
      "Error:0.03575 Prediction:0.98909\n",
      "Error:0.03547 Prediction:0.98833\n",
      "Error:0.03519 Prediction:0.98758\n",
      "Error:0.0349 Prediction:0.98683\n",
      "Error:0.03463 Prediction:0.98608\n",
      "Error:0.03435 Prediction:0.98533\n"
     ]
    }
   ],
   "source": [
    "for iteration in range(20):\n",
    "    prediction = input * knob_weight\n",
    "    error = (goal_prediction - prediction) ** 2\n",
    "    derivative = input * (prediction - goal_prediction)\n",
    "    knob_weight = knob_weight - (alpha * derivative)\n",
    "    print(\"Error:\" + str(round(error, 5)) + \" Prediction:\" + str(round(prediction, 5)))"
   ]
  },
  {
   "cell_type": "code",
   "execution_count": 7,
   "metadata": {
    "collapsed": false
   },
   "outputs": [
    {
     "name": "stdout",
     "output_type": "stream",
     "text": [
      "0.9853349928918479\n"
     ]
    }
   ],
   "source": [
    "    print(prediction)"
   ]
  },
  {
   "cell_type": "code",
   "execution_count": null,
   "metadata": {
    "collapsed": false
   },
   "outputs": [],
   "source": []
  },
  {
   "cell_type": "code",
   "execution_count": 8,
   "metadata": {
    "collapsed": false
   },
   "outputs": [
    {
     "data": {
      "text/plain": [
       "0.03434905959022129"
      ]
     },
     "execution_count": 8,
     "metadata": {},
     "output_type": "execute_result"
    }
   ],
   "source": [
    "error"
   ]
  },
  {
   "cell_type": "code",
   "execution_count": null,
   "metadata": {
    "collapsed": true
   },
   "outputs": [],
   "source": []
  },
  {
   "cell_type": "code",
   "execution_count": null,
   "metadata": {
    "collapsed": true
   },
   "outputs": [],
   "source": []
  }
 ],
 "metadata": {
  "celltoolbar": "Raw Cell Format",
  "kernelspec": {
   "display_name": "Python 3",
   "language": "python",
   "name": "python3"
  },
  "language_info": {
   "codemirror_mode": {
    "name": "ipython",
    "version": 3
   },
   "file_extension": ".py",
   "mimetype": "text/x-python",
   "name": "python",
   "nbconvert_exporter": "python",
   "pygments_lexer": "ipython3",
   "version": "3.5.1"
  }
 },
 "nbformat": 4,
 "nbformat_minor": 0
}
